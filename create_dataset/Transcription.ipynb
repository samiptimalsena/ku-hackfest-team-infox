{
 "cells": [
  {
   "cell_type": "code",
   "execution_count": 45,
   "id": "1952704c",
   "metadata": {},
   "outputs": [],
   "source": [
    "import speech_recognition as sr\n",
    "from glob import glob\n",
    "import os\n",
    "from typing import List, Dict"
   ]
  },
  {
   "cell_type": "code",
   "execution_count": 11,
   "id": "cdd31c18",
   "metadata": {},
   "outputs": [],
   "source": [
    "recognizer = sr.Recognizer()"
   ]
  },
  {
   "cell_type": "code",
   "execution_count": 19,
   "id": "607f3c29",
   "metadata": {},
   "outputs": [],
   "source": [
    "part_1_wavs = glob(\"./wavs/ku_hackfest_part_1*\")\n",
    "part_2_wavs = glob(\"./wavs/ku_hackfest_part_2*\")"
   ]
  },
  {
   "cell_type": "code",
   "execution_count": 26,
   "id": "454df218",
   "metadata": {},
   "outputs": [],
   "source": [
    "path_text = dict()\n",
    "\n",
    "def create_text_dict(wav_paths:List[str]) -> None:\n",
    "    \"\"\"\n",
    "    Creating a dictionary with key as path and value as trancribed text\n",
    "    \n",
    "    Args:\n",
    "        wav_paths: path containing wavs\n",
    "        \n",
    "    Returns:\n",
    "        None\n",
    "    \"\"\"\n",
    "    \n",
    "    for wav_path in wav_paths:\n",
    "        with sr.AudioFile(wav_path) as source:\n",
    "            audio_listened = recognizer.record(source)\n",
    "            try:\n",
    "                text = recognizer.recognize_google(audio_listened, language=\"ne-NP\")\n",
    "                path_text[wav_path] = text\n",
    "            except sr.UnknownValueError as e:\n",
    "                print(\"Error:\", str(e))"
   ]
  },
  {
   "cell_type": "code",
   "execution_count": 27,
   "id": "3b16c541",
   "metadata": {},
   "outputs": [
    {
     "name": "stdout",
     "output_type": "stream",
     "text": [
      "Error: \n",
      "Error: \n",
      "Error: \n"
     ]
    }
   ],
   "source": [
    "create_text_dict(part_1_wavs)"
   ]
  },
  {
   "cell_type": "code",
   "execution_count": 30,
   "id": "11e5efc9",
   "metadata": {},
   "outputs": [
    {
     "name": "stdout",
     "output_type": "stream",
     "text": [
      "Error: \n",
      "Error: \n",
      "Error: \n",
      "Error: \n",
      "Error: \n",
      "Error: \n",
      "Error: \n",
      "Error: \n",
      "Error: \n",
      "Error: \n",
      "Error: \n",
      "Error: \n",
      "Error: \n",
      "Error: \n"
     ]
    }
   ],
   "source": [
    "create_text_dict(part_2_wavs)"
   ]
  },
  {
   "cell_type": "code",
   "execution_count": 43,
   "id": "9cd562d1",
   "metadata": {},
   "outputs": [],
   "source": [
    "def clear_path(path:str) -> str:\n",
    "    \"\"\"\n",
    "    Clipping the file name without extension\n",
    "    \n",
    "    Args:\n",
    "        path: path of the wav file\n",
    "    \n",
    "    Returns:\n",
    "        clipped filename\n",
    "    \"\"\"\n",
    "    return os.path.splitext(path)[0].split(\"/\")[-1]\n",
    "\n",
    "def dict2txt(path_text_dict:Dict[str, str]) -> str:\n",
    "    \"\"\"\n",
    "    Converting dictionary to text file\n",
    "    \n",
    "    Args:\n",
    "        path_text_dict: Dictionary with key as path and value as trancribed text\n",
    "        \n",
    "    Returns:\n",
    "        Filepath of the saved txt file\n",
    "    \"\"\"\n",
    "    file_name = \"caption.txt\"\n",
    "    with open(\"caption.txt\", \"w\") as f:\n",
    "        for path, caption in path_text_dict.items():\n",
    "            f.write(f\"{clear_path(path)}\\t{caption}\\n\")\n",
    "    return file_name"
   ]
  },
  {
   "cell_type": "code",
   "execution_count": 44,
   "id": "59f3382d",
   "metadata": {},
   "outputs": [
    {
     "data": {
      "text/plain": [
       "'caption.txt'"
      ]
     },
     "execution_count": 44,
     "metadata": {},
     "output_type": "execute_result"
    }
   ],
   "source": [
    "dict2txt(path_text)"
   ]
  }
 ],
 "metadata": {
  "kernelspec": {
   "display_name": "Python 3 (ipykernel)",
   "language": "python",
   "name": "python3"
  },
  "language_info": {
   "codemirror_mode": {
    "name": "ipython",
    "version": 3
   },
   "file_extension": ".py",
   "mimetype": "text/x-python",
   "name": "python",
   "nbconvert_exporter": "python",
   "pygments_lexer": "ipython3",
   "version": "3.7.13"
  }
 },
 "nbformat": 4,
 "nbformat_minor": 5
}
