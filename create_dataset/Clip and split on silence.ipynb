{
 "cells": [
  {
   "cell_type": "code",
   "execution_count": 2,
   "id": "439afb43",
   "metadata": {},
   "outputs": [],
   "source": [
    "import os\n",
    "from pydub import AudioSegment\n",
    "from pydub.silence import split_on_silence"
   ]
  },
  {
   "cell_type": "code",
   "execution_count": 5,
   "id": "6e7b236d",
   "metadata": {},
   "outputs": [],
   "source": [
    "def clipper(path:str, start:int, end:int, save_path_name=None) -> str:\n",
    "    \"\"\"\n",
    "    Clipping the downloaded audio to provided length\n",
    "    \n",
    "    Args:\n",
    "        path: Path of the audio\n",
    "        start: starting second\n",
    "        end: ending second\n",
    "        save_path: path for saving the file\n",
    "    \n",
    "    Returns:\n",
    "        Path to the clipped audio\n",
    "    \"\"\"\n",
    "    \n",
    "    sound = AudioSegment.from_wav(path)\n",
    "    cropped_sound = sound[start*1000:end*1000]\n",
    "    \n",
    "    if save_path_name is None:\n",
    "        save_path_name = \"./cropped.wav\"\n",
    "    \n",
    "    cropped_sound.export(save_path_name, format=\"wav\")\n",
    "    return save_path_name"
   ]
  },
  {
   "cell_type": "code",
   "execution_count": 15,
   "id": "adf1a653",
   "metadata": {},
   "outputs": [],
   "source": [
    "# Clipping the part of the video\n",
    "part1 = clipper('./socheko_prapta_garne.wav', 48, 695, 'part1.wav')\n",
    "part2 = clipper('./socheko_prapta_garne.wav', 744, 2222, 'part2.wav')\n",
    "part3 = clipper('./socheko_prapta_garne.wav', 2248, 4032, 'part3.wav')"
   ]
  },
  {
   "cell_type": "code",
   "execution_count": 16,
   "id": "07b89197",
   "metadata": {},
   "outputs": [
    {
     "data": {
      "text/plain": [
       "('part1.wav', 'part2.wav', 'part3.wav')"
      ]
     },
     "execution_count": 16,
     "metadata": {},
     "output_type": "execute_result"
    }
   ],
   "source": [
    "part1, part2, part3"
   ]
  },
  {
   "cell_type": "code",
   "execution_count": 21,
   "id": "0ce94c16",
   "metadata": {},
   "outputs": [],
   "source": [
    "def split_silence(path:str, part:int) -> str:\n",
    "    \"\"\"\n",
    "    Splitting the sound on silence\n",
    "    \n",
    "    Args:\n",
    "        path: path of the sound file\n",
    "        part: part of the video\n",
    "        \n",
    "    Returns:\n",
    "        path to the saved chunks of the splitted sound\n",
    "    \"\"\"\n",
    "    sound = AudioSegment.from_wav(path)\n",
    "    chunks = split_on_silence(sound, min_silence_len=200, silence_thresh=sound.dBFS-14, keep_silence=500)\n",
    "    \n",
    "    dir_name = \"wavs\"\n",
    "    if not os.path.isdir(dir_name):\n",
    "        os.mkdir(dir_name)\n",
    "    \n",
    "    for i, audio_chunk in enumerate(chunks):\n",
    "        chunk_filename = os.path.join(dir_name, f\"ku_hackfest_part_{part}_{i}.wav\")\n",
    "        audio_chunk.export(chunk_filename, format=\"wav\")\n",
    "    \n",
    "    return dir_name"
   ]
  },
  {
   "cell_type": "code",
   "execution_count": 22,
   "id": "8a576f36",
   "metadata": {},
   "outputs": [
    {
     "data": {
      "text/plain": [
       "'wavs'"
      ]
     },
     "execution_count": 22,
     "metadata": {},
     "output_type": "execute_result"
    }
   ],
   "source": [
    "split_silence('part1.wav', 1)\n",
    "split_silence('part2.wav', 2)\n",
    "split_silence('part3.wav', 3)"
   ]
  },
  {
   "cell_type": "code",
   "execution_count": null,
   "id": "4d6482cd",
   "metadata": {},
   "outputs": [],
   "source": []
  }
 ],
 "metadata": {
  "kernelspec": {
   "display_name": "Python 3 (ipykernel)",
   "language": "python",
   "name": "python3"
  },
  "language_info": {
   "codemirror_mode": {
    "name": "ipython",
    "version": 3
   },
   "file_extension": ".py",
   "mimetype": "text/x-python",
   "name": "python",
   "nbconvert_exporter": "python",
   "pygments_lexer": "ipython3",
   "version": "3.7.13"
  }
 },
 "nbformat": 4,
 "nbformat_minor": 5
}
